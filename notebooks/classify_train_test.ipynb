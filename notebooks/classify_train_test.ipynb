{
 "cells": [
  {
   "cell_type": "code",
   "execution_count": 1,
   "metadata": {},
   "outputs": [
    {
     "name": "stdout",
     "output_type": "stream",
     "text": [
      "/Users/danil/Documents/github/zindi_yield_forecast\n"
     ]
    }
   ],
   "source": [
    "cd ..\n"
   ]
  },
  {
   "cell_type": "code",
   "execution_count": 5,
   "metadata": {},
   "outputs": [],
   "source": [
    "%load_ext autoreload\n",
    "%autoreload 2"
   ]
  },
  {
   "cell_type": "code",
   "execution_count": 6,
   "metadata": {},
   "outputs": [],
   "source": [
    "from src.utils import process_dataset\n",
    "import pandas as pd\n",
    "import numpy as np\n",
    "from matplotlib import pyplot as plt"
   ]
  },
  {
   "cell_type": "markdown",
   "metadata": {},
   "source": [
    "open train"
   ]
  },
  {
   "cell_type": "code",
   "execution_count": 63,
   "metadata": {},
   "outputs": [],
   "source": [
    "train = pd.read_csv('data/raw/Train.csv')\n",
    "train = train[(train['Quality'] != 1) & (train['Yield'] <= 10)]"
   ]
  },
  {
   "cell_type": "code",
   "execution_count": 64,
   "metadata": {},
   "outputs": [],
   "source": [
    "band_names = [l.strip() for l in open('data/raw/bandnames.txt', 'r').readlines()]\n",
    "monthes = list(range(5, 12)) + [0, 1]\n",
    "bands_of_interest = ['S2_B8', 'S2_B4', 'S2_B2','S2_B3', \n",
    "                         '7_CLIM_pet', 'CLIM_pr', 'CLIM_vap']"
   ]
  },
  {
   "cell_type": "code",
   "execution_count": 65,
   "metadata": {},
   "outputs": [
    {
     "name": "stdout",
     "output_type": "stream",
     "text": [
      "(2539, 63)\n"
     ]
    }
   ],
   "source": [
    "train_processed = process_dataset(train, monthes, bands_of_interest, band_names, 'data/raw/image_arrays_train/')\n",
    "train_processed['Field_ID'] = train['Field_ID'].values\n",
    "train_processed['Yield'] = train['Yield'].values\n"
   ]
  },
  {
   "cell_type": "code",
   "execution_count": 66,
   "metadata": {},
   "outputs": [],
   "source": [
    "useless_col = []\n",
    "useless_indexes = ['_ndvi', '_evi', '_wrdvi']\n",
    "\n",
    "for ind in useless_indexes: \n",
    "    l = len(ind)\n",
    "    cols = [col for col in train_processed.columns if col[-l:] == ind]\n",
    "    useless_col+=cols\n",
    "    \n",
    "\n",
    "useful_monthes_for_grvi = [6, 7, 8, 9, 10, 11, 0, 1]\n",
    "drop_grvi = [col for col in train_processed.columns if (col[-4:] == 'grvi') and (int(col[0]) not in useful_monthes_for_grvi)]\n",
    "useless_col+=drop_grvi\n",
    "\n",
    "\n",
    "useful_monthes_for_gndvi = [11, 0, 1]\n",
    "drop_gndvi = [col for col in train_processed.columns if (col[-5:] == 'gndvi') and (int(col[0]) not in useful_monthes_for_gndvi)]\n",
    "useless_col+=drop_gndvi\n",
    "\n",
    "\n",
    "train_processed = train_processed.drop(useless_col, 1)\n"
   ]
  },
  {
   "cell_type": "markdown",
   "metadata": {},
   "source": [
    "open test"
   ]
  },
  {
   "cell_type": "code",
   "execution_count": 33,
   "metadata": {},
   "outputs": [
    {
     "name": "stdout",
     "output_type": "stream",
     "text": [
      "(1055, 63)\n"
     ]
    }
   ],
   "source": [
    "ss = pd.read_csv('data/raw/SampleSubmission.csv')\n",
    "\n",
    "# Prep the data, using the same method we did for train\n",
    "#test = pd.DataFrame([process_im(fid, monthes, folder='data/raw/image_arrays_test/') for fid in ss['Field_ID'].values])\n",
    "\n",
    "test_processed = process_dataset(ss, monthes, bands_of_interest, band_names, 'data/raw/image_arrays_test/')\n"
   ]
  },
  {
   "cell_type": "code",
   "execution_count": 34,
   "metadata": {},
   "outputs": [],
   "source": [
    "test_processed = test_processed.drop(useless_col, 1)"
   ]
  },
  {
   "cell_type": "code",
   "execution_count": 35,
   "metadata": {},
   "outputs": [
    {
     "data": {
      "text/plain": [
       "(1055, 30)"
      ]
     },
     "execution_count": 35,
     "metadata": {},
     "output_type": "execute_result"
    }
   ],
   "source": [
    "test_processed.shape"
   ]
  },
  {
   "cell_type": "code",
   "execution_count": 36,
   "metadata": {},
   "outputs": [],
   "source": [
    "test_processed['target'] = 1\n",
    "train_processed['target'] = 0\n",
    "train_processed = train_processed.drop(['Field_ID', 'Yield'], 1)"
   ]
  },
  {
   "cell_type": "code",
   "execution_count": 69,
   "metadata": {},
   "outputs": [
    {
     "data": {
      "text/plain": [
       "2017.0    1043\n",
       "2016.0     499\n",
       "2019.0     463\n",
       "2018.0     158\n",
       "Name: Year, dtype: int64"
      ]
     },
     "execution_count": 69,
     "metadata": {},
     "output_type": "execute_result"
    }
   ],
   "source": [
    "train_processed['Year'] = train['Year']\n",
    "train_processed['Year'].value_counts()"
   ]
  },
  {
   "cell_type": "code",
   "execution_count": 79,
   "metadata": {},
   "outputs": [
    {
     "name": "stderr",
     "output_type": "stream",
     "text": [
      "/Users/danil/Documents/github/zindi_yield_forecast/env/lib/python3.7/site-packages/ipykernel_launcher.py:5: SettingWithCopyWarning: \n",
      "A value is trying to be set on a copy of a slice from a DataFrame.\n",
      "Try using .loc[row_indexer,col_indexer] = value instead\n",
      "\n",
      "See the caveats in the documentation: https://pandas.pydata.org/pandas-docs/stable/user_guide/indexing.html#returning-a-view-versus-a-copy\n",
      "  \"\"\"\n",
      "/Users/danil/Documents/github/zindi_yield_forecast/env/lib/python3.7/site-packages/ipykernel_launcher.py:6: SettingWithCopyWarning: \n",
      "A value is trying to be set on a copy of a slice from a DataFrame.\n",
      "Try using .loc[row_indexer,col_indexer] = value instead\n",
      "\n",
      "See the caveats in the documentation: https://pandas.pydata.org/pandas-docs/stable/user_guide/indexing.html#returning-a-view-versus-a-copy\n",
      "  \n"
     ]
    }
   ],
   "source": [
    "train = train_processed[train_processed['Year'] != 2016]\n",
    "test = train_processed[train_processed['Year'] == 2016]\n",
    "\n",
    "\n",
    "test['target'] = 1\n",
    "train['target'] = 0\n",
    "df = pd.concat([test, train], 0)\n",
    "df = df.drop(['Field_ID', 'Yield', 'Year'], 1)"
   ]
  },
  {
   "cell_type": "code",
   "execution_count": 37,
   "metadata": {},
   "outputs": [],
   "source": [
    "df = pd.concat([test_processed, train_processed], 0)"
   ]
  },
  {
   "cell_type": "code",
   "execution_count": 80,
   "metadata": {},
   "outputs": [],
   "source": [
    "import lightgbm as lgb\n",
    "from sklearn.model_selection import train_test_split\n",
    "from sklearn.metrics import accuracy_score\n",
    "\n",
    "X_train, X_test, y_train, y_test = train_test_split(df.drop('target', 1), df['target'], \n",
    "                                                    test_size=0.2, random_state = 42)\n"
   ]
  },
  {
   "cell_type": "code",
   "execution_count": 81,
   "metadata": {},
   "outputs": [
    {
     "data": {
      "text/plain": [
       "0    1634\n",
       "1     397\n",
       "Name: target, dtype: int64"
      ]
     },
     "execution_count": 81,
     "metadata": {},
     "output_type": "execute_result"
    }
   ],
   "source": [
    "y_train.value_counts()"
   ]
  },
  {
   "cell_type": "code",
   "execution_count": 82,
   "metadata": {},
   "outputs": [],
   "source": [
    "model = lgb.LGBMClassifier(random_state=42)\n",
    "model.fit(X_train, y_train)\n",
    "\n",
    "pred = model.predict(X_test)"
   ]
  },
  {
   "cell_type": "code",
   "execution_count": 83,
   "metadata": {},
   "outputs": [
    {
     "data": {
      "text/plain": [
       "0.8582677165354331"
      ]
     },
     "execution_count": 83,
     "metadata": {},
     "output_type": "execute_result"
    }
   ],
   "source": [
    "accuracy_score(y_test, pred)"
   ]
  },
  {
   "cell_type": "markdown",
   "metadata": {},
   "source": [
    "accuracy for model to distinguish between validation and train is 1\n",
    "\n",
    "accuracy for model to distinguish between 2019 year and other from train is 0.9 (2016-0.85)\n",
    "\n",
    "so every year is pretty different, but validation is veeeery different"
   ]
  }
 ],
 "metadata": {
  "kernelspec": {
   "display_name": "Python 3",
   "language": "python",
   "name": "python3"
  },
  "language_info": {
   "codemirror_mode": {
    "name": "ipython",
    "version": 3
   },
   "file_extension": ".py",
   "mimetype": "text/x-python",
   "name": "python",
   "nbconvert_exporter": "python",
   "pygments_lexer": "ipython3",
   "version": "3.7.7"
  }
 },
 "nbformat": 4,
 "nbformat_minor": 4
}
